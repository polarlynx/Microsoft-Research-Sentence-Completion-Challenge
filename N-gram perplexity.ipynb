{
 "cells": [
  {
   "cell_type": "code",
   "execution_count": 5,
   "id": "e227b8bd",
   "metadata": {},
   "outputs": [],
   "source": [
    "# Import package\n",
    "from nltk import word_tokenize as tokenize\n",
    "import pandas as pd, csv\n",
    "import operator\n",
    "import os,random,math\n",
    "import numpy as np"
   ]
  },
  {
   "cell_type": "code",
   "execution_count": 6,
   "id": "20cba406",
   "metadata": {},
   "outputs": [],
   "source": [
    "# Import file directory\n",
    "path = \"D:\\Study\\自然语言工程\\高级\\week2\\lab2resources\\lab2resources\\sentence-completion\\Holmes_Training_Data\""
   ]
  },
  {
   "cell_type": "code",
   "execution_count": 7,
   "id": "14df741b",
   "metadata": {},
   "outputs": [],
   "source": [
    "filenames = os.listdir(path)\n",
    "n = len(filenames)\n",
    "random.shuffle(filenames) # Randomly shuffle file names\n",
    "trainingfiles = filenames[:int(n*0.5)] # Randomly select the name of training set file\n",
    "heldoutfiles = filenames[int(n*0.5):] # Then grab the test set file name"
   ]
  },
  {
   "cell_type": "code",
   "execution_count": 8,
   "id": "cd438bd2",
   "metadata": {},
   "outputs": [],
   "source": [
    "class lanugage_model:\n",
    "    \n",
    "    def __init__(self,path,filesize,method):\n",
    "        self.words = [] # An empty list of words used to store word tokens\n",
    "        self.unigram = {} # An empty dictionary for storing unigram words\n",
    "        self.bigram = {}\n",
    "        self.trigram = {}\n",
    "        self.quadrigram = {}\n",
    "        \n",
    "        self.gram = {} # The final gram is consistent with the method\n",
    "        \n",
    "        self.path = path # Get road strength\n",
    "        self.filesize = filesize # Get file batch size\n",
    "        self.method = method # Selection method\n",
    "        \n",
    "        self.get_words()\n",
    "        self._processfiles()\n",
    "        self._make_unknowns()\n",
    "        self._discount()\n",
    "        self._convert_to_probs()\n",
    "        \n",
    "    def get_words(self):\n",
    "        # Get the word token, and add \"_start\" and \"_end\" \n",
    "        # to mark the beginning and end of each sentence\n",
    "        for file in trainingfiles[:self.filesize]:\n",
    "            print(f\"processing {file}.text \")\n",
    "            try:\n",
    "                with open(os.path.join(path,file)) as instream:\n",
    "                    for line in instream:\n",
    "                        line = line.rstrip()\n",
    "                        if len(line)>0:             \n",
    "                            tokens = tokens=[\"__START\"]+tokenize(line)+[\"__END\"]\n",
    "                            self.words.append(tokens)\n",
    "            except UnicodeDecodeError:\n",
    "                print(\"UnicodeDecodeError processing {}: ignoring rest of file\".format(file))\n",
    "                        \n",
    "    \n",
    "    def _processfiles(self):\n",
    "    \n",
    "        for i in self.words: # Get unigram model words and word count\n",
    "            for j in i:\n",
    "                self.unigram[j] = 0\n",
    "\n",
    "        for i in self.words:\n",
    "            for j in i:\n",
    "                self.unigram[j] += 1\n",
    "\n",
    "        if self.method == \"bigram\": # Get bigram model words and the number of words after each word\n",
    "            for i in self.words:\n",
    "                for j in range(len(i)-1):\n",
    "                    self.bigram[i[j]] = {}\n",
    "            for i in self.words:\n",
    "                for j in range(len(i)-1):\n",
    "                    self.bigram[i[j]][i[j+1]] = 0\n",
    "            for i in self.words:\n",
    "                for j in range(len(i)-1):\n",
    "                    self.bigram[i[j]][i[j+1]] += 1\n",
    "                    \n",
    "            self.gram = self.bigram # Finally, self The gram dictionary will store the same gram element as method.\n",
    "                    \n",
    "        if self.method == \"trigram\": # Get trigram model words and the number of words after each word\n",
    "            for i in self.words:\n",
    "                for j in range(len(i)-2):\n",
    "                    self.trigram[i[j]] = {}\n",
    "            for i in self.words:\n",
    "                for j in range(len(i)-2):\n",
    "                    self.trigram[i[j]][i[j+1],i[j+2]] = 0\n",
    "            for i in self.words:        \n",
    "                 for j in range(len(i)-2):\n",
    "                    self.trigram[i[j]][i[j+1],i[j+2]] += 1\n",
    "                    \n",
    "            self.gram = self.trigram\n",
    "                    \n",
    "        if self.method == \"quadrigram\": # Get the word of the quadrigram model and the number of words after each word\n",
    "            for i in self.words:\n",
    "                for j in range(len(i)-3):\n",
    "                    self.quadrigram[i[j]] = {}\n",
    "            for i in self.words:\n",
    "                for j in range(len(i)-3):\n",
    "                    self.quadrigram[i[j]][i[j+1],i[j+2],i[j+3]] = 0\n",
    "            for i in self.words:        \n",
    "                 for j in range(len(i)-3):\n",
    "                    self.quadrigram[i[j]][i[j+1],i[j+2],i[j+3]] += 1\n",
    "                    \n",
    "            self.gram = self.quadrigram\n",
    "            \n",
    "            \n",
    "    def _convert_to_probs(self): # term frequency \n",
    "        self.unigram = {k:v/sum(self.unigram.values()) for (k,v) in self.unigram.items()} \n",
    "        \n",
    "        # Calculate the word frequency of packaged bigram or trigram or quadrigram, and return to gram dictionary\n",
    "        self.gram = {key:{k:v/sum(adict.values()) for (k,v) in adict.items()} for (key,adict) in self.gram.items()}\n",
    "    \n",
    "    def get_prob(self,token,context=\"\"):\n",
    "        # Be computed_ prob_ Line function call, which is used to count the probability of obtaining words and calculate perflexity\n",
    "        \n",
    "        if self.method == \"unigram\":\n",
    "            return self.unigram.get(token,self.unigram.get(\"__UNK\",0))\n",
    "        else:\n",
    "            gram = self.gram.get(context[-1],self.gram.get(\"__UNK\",{})) # Probability of getting \"__unk\" token\n",
    "            big_p = gram.get(token,gram.get(\"__UNK\",0)) \n",
    "            \n",
    "            lmbda = gram[\"__DISCOUNT\"] # Get \"_discount\" token probability\n",
    "            \n",
    "            uni_p = self.unigram.get(token,self.unigram.get(\"__UNK\",0))\n",
    "            #print(big_p,lmbda,uni_p)\n",
    "            p = big_p + lmbda * uni_p            \n",
    "            return p          \n",
    "        \n",
    "    def nextlikely(self,current=\"\"):  # Screen the words most likely to form a sentence\n",
    "        blacklist=[\"__START\",\"__DISCOUNT\"]\n",
    "       \n",
    "        if self.method == \"unigram\":\n",
    "            dist = self.unigram\n",
    "        else:\n",
    "            dist = self.gram.get(current,{})\n",
    "    \n",
    "        mostlikely=list(dist.items())\n",
    "        # filter out any undesirable tokens\n",
    "        filtered=[(w,p) for (w,p) in mostlikely if w not in blacklist]\n",
    "        print(current,len(filtered))\n",
    "        # choose one randomly from the top k\n",
    "        words,probdist = zip(*filtered)\n",
    "        res = random.choices(words,probdist)[0]\n",
    "        return res\n",
    "    \n",
    "    def generate(self,end=\"__END\",limit=20): # Generate a possible sentence\n",
    "        current=\"__START\"\n",
    "        tokens=[]\n",
    "        while  current != end and len(tokens) < limit:\n",
    "            current=self.nextlikely(current=current)\n",
    "            tokens.append(current)\n",
    "        return \" \".join(tokens[:-1])\n",
    "    \n",
    "    def compute_prob_line(self,line): \n",
    "       # Be computed_ The probability function call is used to calculate the probability\n",
    "        tokens=[\"__START\"]+tokenize(line)+[\"__END\"]\n",
    "        acc=0\n",
    "        for i,token in enumerate(tokens[1:]):\n",
    "            acc += np.log(self.get_prob(token,tokens[:i+1]))\n",
    "        return acc,len(tokens[1:])\n",
    "    \n",
    "    def compute_probability(self):\n",
    "        # computes the probability (and length) of a corpus contained in filenames\n",
    "        # Select the test set file name to calculate the property\n",
    "        total_p=0\n",
    "        total_N=0\n",
    "        for i,afile in enumerate(heldoutfiles[:self.filesize]):\n",
    "            print(\"Processing file {}:{}\".format(i,afile))\n",
    "            try:\n",
    "                with open(os.path.join(path,afile)) as instream:\n",
    "                    for line in instream:\n",
    "                        line=line.rstrip()\n",
    "                        if len(line)>0:\n",
    "                            p,N = self.compute_prob_line(line)\n",
    "                            total_p += p\n",
    "                            total_N += N\n",
    "            except UnicodeDecodeError:\n",
    "                print(\"UnicodeDecodeError processing file {}: ignoring rest of file\".format(afile))\n",
    "        return total_p,total_N\n",
    "    \n",
    "    def compute_perplexity(self):\n",
    "        \n",
    "        #compute the probability and length of the corpus\n",
    "        #calculate perplexity\n",
    "        #lower perplexity means that the model better explains the data\n",
    "        \n",
    "        p,N = self.compute_probability()\n",
    "        #print(p,N)\n",
    "        pp = np.exp(-p/N)\n",
    "        return pp  \n",
    "    \n",
    "    def _make_unknowns(self,known=2): # Add unknown word token \"_unk\"\n",
    "        unknown = 0\n",
    "        if self.method == \"unigram\"or self.method == \"bigram\":\n",
    "            for (k,v) in list(self.unigram.items()):\n",
    "                if v < known: # If less than, the word is deleted from the dictionary and replaced with a \"_unk\" token\n",
    "                    del self.unigram[k]\n",
    "                    self.unigram[\"__UNK\"] = self.unigram.get(\"__UNK\",0) + v\n",
    "            for (k,adict) in list(self.gram.items()):\n",
    "                for (kk,v) in list(adict.items()):\n",
    "                    isknown = self.unigram.get(kk,0)\n",
    "                    if isknown == 0: # If equal to 0, the word is removed from the dictionary and replaced with a \"_unk\" token\n",
    "                        adict[\"__UNK\"] = adict.get(\"__UNK\",0) + v\n",
    "                        del adict[kk]\n",
    "                isknown = self.unigram.get(k,0)\n",
    "                if isknown == 0:\n",
    "                    del self.gram[k]\n",
    "                    current = self.gram.get(\"__UNK\",{})\n",
    "                    current.update(adict)\n",
    "                    self.gram[\"__UNK\"] = current\n",
    "\n",
    "                else:\n",
    "                    self.gram[k] = adict\n",
    "                    \n",
    "        if self.method == \"trigram\"or self.method == \"quadrigram\":\n",
    "            for (k,v) in list(self.unigram.items()):\n",
    "                if v < known:\n",
    "                    del self.unigram[k]\n",
    "                    self.unigram[\"__UNK\"] = self.unigram.get(\"__UNK\",0) + v\n",
    "                    \n",
    "            #Trigram and quadrigram contain a word pair tuple, which needs to add a layer of loop\n",
    "            for (k,adict) in list(self.gram.items()): \n",
    "                for (kk,v) in list(adict.items()):\n",
    "                    for vv in kk: \n",
    "                        isknown = self.unigram.get(vv,0)\n",
    "                        dels = False\n",
    "                        if isknown == 0:\n",
    "                            adict[\"__UNK\"] = adict.get(\"__UNK\",0) + v\n",
    "                            dels = True\n",
    "                    if dels == True:\n",
    "                        del adict[kk]\n",
    "                isknown = self.unigram.get(k,0)\n",
    "                if isknown == 0:\n",
    "                    del self.gram[k]\n",
    "                    current = self.gram.get(\"__UNK\",{})\n",
    "                    current.update(adict)\n",
    "                    self.gram[\"__UNK\"] = current\n",
    "                    \n",
    "                else:\n",
    "                    self.gram[k] = adict\n",
    "        \n",
    "    def _discount(self,discount=0.75):\n",
    "        #discount each bigram count by a small fixed amount\n",
    "        self.gram={k:{kk:value-discount for (kk,value) in adict.items()}for (k,adict) in self.gram.items()}\n",
    "        \n",
    "        #for each word, store the total amount of the discount so that the total is the same \n",
    "        #i.e., so we are reserving this as probability mass\n",
    "        for k in self.gram.keys():\n",
    "            lamb = len(self.gram[k])\n",
    "            self.gram[k][\"__DISCOUNT\"] = lamb * discount"
   ]
  },
  {
   "cell_type": "code",
   "execution_count": 9,
   "id": "a89654fe",
   "metadata": {},
   "outputs": [
    {
     "name": "stdout",
     "output_type": "stream",
     "text": [
      "processing MASAC10.TXT.text \n",
      "Processing file 0:WALDN10.TXT\n",
      "processing MASAC10.TXT.text \n",
      "processing MARKT10.TXT.text \n",
      "Processing file 0:WALDN10.TXT\n",
      "Processing file 1:POLST10.TXT\n",
      "processing MASAC10.TXT.text \n",
      "processing MARKT10.TXT.text \n",
      "processing JBALL10.TXT.text \n",
      "Processing file 0:WALDN10.TXT\n",
      "Processing file 1:POLST10.TXT\n",
      "Processing file 2:TPSPD10.TXT\n",
      "processing MASAC10.TXT.text \n",
      "processing MARKT10.TXT.text \n",
      "processing JBALL10.TXT.text \n",
      "processing 11WOZ10.TXT.text \n",
      "Processing file 0:WALDN10.TXT\n",
      "Processing file 1:POLST10.TXT\n",
      "Processing file 2:TPSPD10.TXT\n",
      "Processing file 3:TLFNS10.TXT\n",
      "processing MASAC10.TXT.text \n",
      "processing MARKT10.TXT.text \n",
      "processing JBALL10.TXT.text \n",
      "processing 11WOZ10.TXT.text \n",
      "processing AGNSG10.TXT.text \n",
      "Processing file 0:WALDN10.TXT\n",
      "Processing file 1:POLST10.TXT\n",
      "Processing file 2:TPSPD10.TXT\n",
      "Processing file 3:TLFNS10.TXT\n",
      "Processing file 4:HHOTL10.TXT\n",
      "processing MASAC10.TXT.text \n",
      "Processing file 0:WALDN10.TXT\n",
      "processing MASAC10.TXT.text \n",
      "processing MARKT10.TXT.text \n",
      "Processing file 0:WALDN10.TXT\n",
      "Processing file 1:POLST10.TXT\n",
      "processing MASAC10.TXT.text \n",
      "processing MARKT10.TXT.text \n",
      "processing JBALL10.TXT.text \n",
      "Processing file 0:WALDN10.TXT\n",
      "Processing file 1:POLST10.TXT\n",
      "Processing file 2:TPSPD10.TXT\n",
      "processing MASAC10.TXT.text \n",
      "processing MARKT10.TXT.text \n",
      "processing JBALL10.TXT.text \n",
      "processing 11WOZ10.TXT.text \n",
      "Processing file 0:WALDN10.TXT\n",
      "Processing file 1:POLST10.TXT\n",
      "Processing file 2:TPSPD10.TXT\n",
      "Processing file 3:TLFNS10.TXT\n",
      "processing MASAC10.TXT.text \n",
      "processing MARKT10.TXT.text \n",
      "processing JBALL10.TXT.text \n",
      "processing 11WOZ10.TXT.text \n",
      "processing AGNSG10.TXT.text \n",
      "Processing file 0:WALDN10.TXT\n",
      "Processing file 1:POLST10.TXT\n",
      "Processing file 2:TPSPD10.TXT\n",
      "Processing file 3:TLFNS10.TXT\n",
      "Processing file 4:HHOTL10.TXT\n",
      "processing MASAC10.TXT.text \n",
      "Processing file 0:WALDN10.TXT\n",
      "processing MASAC10.TXT.text \n",
      "processing MARKT10.TXT.text \n",
      "Processing file 0:WALDN10.TXT\n",
      "Processing file 1:POLST10.TXT\n",
      "processing MASAC10.TXT.text \n",
      "processing MARKT10.TXT.text \n",
      "processing JBALL10.TXT.text \n",
      "Processing file 0:WALDN10.TXT\n",
      "Processing file 1:POLST10.TXT\n",
      "Processing file 2:TPSPD10.TXT\n",
      "processing MASAC10.TXT.text \n",
      "processing MARKT10.TXT.text \n",
      "processing JBALL10.TXT.text \n",
      "processing 11WOZ10.TXT.text \n",
      "Processing file 0:WALDN10.TXT\n",
      "Processing file 1:POLST10.TXT\n",
      "Processing file 2:TPSPD10.TXT\n",
      "Processing file 3:TLFNS10.TXT\n",
      "processing MASAC10.TXT.text \n",
      "processing MARKT10.TXT.text \n",
      "processing JBALL10.TXT.text \n",
      "processing 11WOZ10.TXT.text \n",
      "processing AGNSG10.TXT.text \n",
      "Processing file 0:WALDN10.TXT\n",
      "Processing file 1:POLST10.TXT\n",
      "Processing file 2:TPSPD10.TXT\n",
      "Processing file 3:TLFNS10.TXT\n",
      "Processing file 4:HHOTL10.TXT\n",
      "processing MASAC10.TXT.text \n",
      "Processing file 0:WALDN10.TXT\n",
      "processing MASAC10.TXT.text \n",
      "processing MARKT10.TXT.text \n",
      "Processing file 0:WALDN10.TXT\n",
      "Processing file 1:POLST10.TXT\n",
      "processing MASAC10.TXT.text \n",
      "processing MARKT10.TXT.text \n",
      "processing JBALL10.TXT.text \n",
      "Processing file 0:WALDN10.TXT\n",
      "Processing file 1:POLST10.TXT\n",
      "Processing file 2:TPSPD10.TXT\n",
      "processing MASAC10.TXT.text \n",
      "processing MARKT10.TXT.text \n",
      "processing JBALL10.TXT.text \n",
      "processing 11WOZ10.TXT.text \n",
      "Processing file 0:WALDN10.TXT\n",
      "Processing file 1:POLST10.TXT\n",
      "Processing file 2:TPSPD10.TXT\n",
      "Processing file 3:TLFNS10.TXT\n",
      "processing MASAC10.TXT.text \n",
      "processing MARKT10.TXT.text \n",
      "processing JBALL10.TXT.text \n",
      "processing 11WOZ10.TXT.text \n",
      "processing AGNSG10.TXT.text \n",
      "Processing file 0:WALDN10.TXT\n",
      "Processing file 1:POLST10.TXT\n",
      "Processing file 2:TPSPD10.TXT\n",
      "Processing file 3:TLFNS10.TXT\n",
      "Processing file 4:HHOTL10.TXT\n"
     ]
    }
   ],
   "source": [
    "# Drawing\n",
    "import matplotlib.pyplot as plt\n",
    "import numpy as np\n",
    "\n",
    "methods = [\"unigram\",\"bigram\",\"trigram\",\"quadrigram\"]\n",
    "\n",
    "unigram = []\n",
    "bigram = []\n",
    "trigram = []\n",
    "quadrigram = []\n",
    "\n",
    "a = np.arange(1,6)\n",
    "\n",
    "for method in methods:\n",
    "    for file in range(1,6):\n",
    "            mylm = lanugage_model(path,file,method)\n",
    "            perplexity = mylm.compute_perplexity()\n",
    "            eval(method).append(perplexity)"
   ]
  },
  {
   "cell_type": "code",
   "execution_count": 10,
   "id": "03691a8a",
   "metadata": {},
   "outputs": [
    {
     "data": {
      "image/png": "[encoded data removed]",
      "text/plain": [
       "<Figure size 432x288 with 1 Axes>"
      ]
     },
     "metadata": {
      "needs_background": "light"
     },
     "output_type": "display_data"
    }
   ],
   "source": [
    "fig = plt.figure(1)\n",
    "ax = plt.subplot(111)\n",
    "ax.plot(a, unigram, 'r',label='unigram')\n",
    "ax.plot(a, bigram, 'c',label='bigram')\n",
    "ax.plot(a, trigram,'y',label='tigram')\n",
    "ax.plot(a, quadrigram,'g',label='quadrigram')\n",
    "ax.legend()\n",
    "plt.xlabel('File')\n",
    "plt.ylabel('Perplexity')\n",
    "plt.title('Perplexity - File')\n",
    "plt.show()"
   ]
  },
  {
   "cell_type": "code",
   "execution_count": 46,
   "id": "8145f98e",
   "metadata": {
    "scrolled": false
   },
   "outputs": [],
   "source": [
    "left_unigram_score,left_bigram_score,left_trigram_score,left_quadrigram_score = [],[],[],[]\n",
    "left_right_unigram_score,left_right_bigram_score,left_right_trigram_score,left_right_quadrigram_score = [],[],[],[]\n",
    "\n",
    "with open(\"N-gram.txt\", \"r\") as f:  \n",
    "    data = f.readlines() \n",
    "    for i in data:\n",
    "        if \"left unigram score\"in i:\n",
    "            num = float('0.'+ ''.join([x for x in i if x.isdigit()]))*10\n",
    "            left_unigram_score.append(num)\n",
    "            \n",
    "        if \"left bigram score:\"in i:\n",
    "            num = float('0.'+ ''.join([x for x in i if x.isdigit()]))*10\n",
    "            left_bigram_score.append(num)\n",
    "            \n",
    "        if \"left trigram score:\"in i:\n",
    "            num = float('0.'+ ''.join([x for x in i if x.isdigit()]))*10\n",
    "            left_trigram_score.append(num)\n",
    "        \n",
    "        if \"left quadrigram score\"in i:\n",
    "            num = float('0.'+ ''.join([x for x in i if x.isdigit()]))*10\n",
    "            left_quadrigram_score.append(num)\n",
    "            \n",
    "        if \"left&right unigram score\"in i:\n",
    "            num = float('0.'+ ''.join([x for x in i if x.isdigit()]))*10\n",
    "            left_right_unigram_score.append(num)\n",
    "            \n",
    "        if \"left&right bigram score\"in i:\n",
    "            num = float('0.'+ ''.join([x for x in i if x.isdigit()]))*10\n",
    "            left_right_bigram_score.append(num)\n",
    "            \n",
    "        if \"left&right trigram score\"in i:\n",
    "            num = float('0.'+ ''.join([x for x in i if x.isdigit()]))*10\n",
    "            left_right_trigram_score.append(num)\n",
    "            \n",
    "        if \"left&right quadrigram score\"in i:\n",
    "            num = float('0.'+ ''.join([x for x in i if x.isdigit()]))*10\n",
    "            left_right_quadrigram_score.append(num)"
   ]
  },
  {
   "cell_type": "code",
   "execution_count": 76,
   "id": "c7b2527f",
   "metadata": {},
   "outputs": [
    {
     "data": {
      "image/png": "[encoded data removed]",
      "text/plain": [
       "<Figure size 432x288 with 1 Axes>"
      ]
     },
     "metadata": {
      "needs_background": "light"
     },
     "output_type": "display_data"
    }
   ],
   "source": [
    "data = [sum(left_unigram_score)/5, sum(left_bigram_score)/5, sum(left_trigram_score)/5, sum(left_quadrigram_score)/5]\n",
    "labels = ['unigram', 'bigram', 'trigram', 'quadrigram']\n",
    " \n",
    "plt.bar(range(len(data)), data, tick_label=labels)\n",
    "plt.ylabel('score')\n",
    "plt.title('Mean_score_leftcontext')\n",
    "plt.show()"
   ]
  },
  {
   "cell_type": "code",
   "execution_count": 75,
   "id": "b9207237",
   "metadata": {},
   "outputs": [
    {
     "data": {
      "text/plain": [
       "[0.2530769230769231,\n",
       " 0.23692307692307696,\n",
       " 0.2103846153846154,\n",
       " 0.2092307692307692]"
      ]
     },
     "execution_count": 75,
     "metadata": {},
     "output_type": "execute_result"
    }
   ],
   "source": [
    "data"
   ]
  },
  {
   "cell_type": "code",
   "execution_count": 49,
   "id": "e061552a",
   "metadata": {},
   "outputs": [
    {
     "data": {
      "image/png": "[encoded data removed]",
      "text/plain": [
       "<Figure size 432x288 with 1 Axes>"
      ]
     },
     "metadata": {
      "needs_background": "light"
     },
     "output_type": "display_data"
    }
   ],
   "source": [
    "data = [sum(left_right_unigram_score), sum(left_right_bigram_score), sum(left_right_trigram_score), sum(left_right_quadrigram_score)]\n",
    "labels = ['unigram', 'bigram', 'trigram', 'quadrigram']\n",
    " \n",
    "plt.bar(range(len(data)), data, tick_label=labels)\n",
    "plt.ylabel('score')\n",
    "plt.title('Total_score_left_rightcontext')\n",
    "plt.show()"
   ]
  },
  {
   "cell_type": "code",
   "execution_count": 42,
   "id": "6e34ebcf",
   "metadata": {},
   "outputs": [
    {
     "name": "stdout",
     "output_type": "stream",
     "text": [
      "0.25288461538461543\n",
      "0.2567307692307692\n",
      "0.2625\n",
      "0.25384615384615383\n",
      "0.23942307692307693\n",
      "24615384615384617\n",
      "23942307692307693\n",
      "24134615384615385\n",
      "23942307692307693\n",
      "21826923076923077\n"
     ]
    }
   ],
   "source": [
    "with open(\"N-gram.txt\", \"r\") as f:  \n",
    "    data = f.readlines() \n",
    "    for i in data:\n",
    "        if \"left unigram score\"in i:\n",
    "            num = float('0.'+ ''.join([x for x in i if x.isdigit()]))*10\n",
    "            print(num)\n",
    "            \n",
    "        if \"left bigram score:\"in i:\n",
    "            num = int(''.join([x for x in i if x.isdigit()]))\n",
    "            print(num)\n",
    "            \n",
    "        if \"left trigram score:\"in i:\n",
    "            num = int(''.join([x for x in i if x.isdigit()]))\n",
    "            \n",
    "        \n",
    "        if \"left quadrigram score\"in i:\n",
    "            num = int(''.join([x for x in i if x.isdigit()]))\n",
    "            "
   ]
  },
  {
   "cell_type": "code",
   "execution_count": null,
   "id": "ca87fcef",
   "metadata": {},
   "outputs": [],
   "source": [
    "data_left = [sum(left_unigram_score), sum(left_bigram_score), sum(left_trigram_score), sum(left_quadrigram_score)]\n",
    "data_left_right = [sum(left_right_unigram_score), sum(left_right_bigram_score), sum(left_right_trigram_score), sum(left_right_quadrigram_score)]\n",
    "labels = ['unigram', 'bigram', 'trigram', 'quadrigram']\n",
    "\n",
    "plt.bar(range(len(data_left)), data_left, tick_label=labels)\n",
    "plt.ylabel('score')\n",
    "plt.title('Total_score_left_rightcontext')\n",
    "plt.show()"
   ]
  },
  {
   "cell_type": "code",
   "execution_count": 78,
   "id": "66d60875",
   "metadata": {},
   "outputs": [
    {
     "data": {
      "image/png": "[encoded data removed]",
      "text/plain": [
       "<Figure size 432x288 with 1 Axes>"
      ]
     },
     "metadata": {
      "needs_background": "light"
     },
     "output_type": "display_data"
    }
   ],
   "source": [
    "data_left = [sum(left_unigram_score)/5, sum(left_bigram_score)/5, sum(left_trigram_score)/5, sum(left_quadrigram_score)/5]\n",
    "data_left_right = [sum(left_right_unigram_score)/5, sum(left_right_bigram_score)/5, sum(left_right_trigram_score)/5, sum(left_right_quadrigram_score)/5]\n",
    "\n",
    "size = 4\n",
    "x = np.arange(size)\n",
    "a = data_left\n",
    "b = data_left_right\n",
    "c = np.random.random(size)\n",
    "labels = ['unigram', 'bigram', 'trigram', 'quadrigram']\n",
    " \n",
    "total_width, n = 0.9, 3\n",
    "width = total_width / n\n",
    "x = x - (total_width - width) / 2\n",
    " \n",
    "plt.bar(x, a,  width=width, tick_label=labels,label='left')\n",
    "plt.bar(x + width, b, width=width, label='left_right')\n",
    "plt.title('Mean_score')\n",
    "plt.legend()\n",
    "plt.show()"
   ]
  },
  {
   "cell_type": "code",
   "execution_count": 65,
   "id": "3c2336d8",
   "metadata": {},
   "outputs": [
    {
     "data": {
      "text/plain": [
       "array([0.90738541, 0.61544739, 0.33925909, 0.58342356, 0.52920478])"
      ]
     },
     "execution_count": 65,
     "metadata": {},
     "output_type": "execute_result"
    }
   ],
   "source": [
    "a"
   ]
  },
  {
   "cell_type": "code",
   "execution_count": 79,
   "id": "7b33bd17",
   "metadata": {},
   "outputs": [
    {
     "data": {
      "text/plain": [
       "[0.2530769230769231,\n",
       " 0.23692307692307696,\n",
       " 0.2103846153846154,\n",
       " 0.2092307692307692]"
      ]
     },
     "execution_count": 79,
     "metadata": {},
     "output_type": "execute_result"
    }
   ],
   "source": [
    "data_left"
   ]
  },
  {
   "cell_type": "code",
   "execution_count": 80,
   "id": "85996076",
   "metadata": {},
   "outputs": [
    {
     "data": {
      "text/plain": [
       "[0.25596153846153846,\n",
       " 0.21980769230769232,\n",
       " 0.24480769230769234,\n",
       " 0.2230769230769231]"
      ]
     },
     "execution_count": 80,
     "metadata": {},
     "output_type": "execute_result"
    }
   ],
   "source": [
    "data_left_right"
   ]
  },
  {
   "cell_type": "code",
   "execution_count": null,
   "id": "adea9cd7",
   "metadata": {},
   "outputs": [],
   "source": []
  },
  {
   "cell_type": "code",
   "execution_count": 84,
   "id": "ab8b92ff",
   "metadata": {},
   "outputs": [],
   "source": [
    "gram = sorted(mylm.unigram.items(),key=lambda x:x[1],reverse = True)"
   ]
  },
  {
   "cell_type": "code",
   "execution_count": 88,
   "id": "565cb570",
   "metadata": {},
   "outputs": [],
   "source": [
    "data = gram[:10]\n",
    "word = []\n",
    "probs = []"
   ]
  },
  {
   "cell_type": "code",
   "execution_count": 89,
   "id": "500c147c",
   "metadata": {},
   "outputs": [],
   "source": [
    "for i in data:\n",
    "    word.append(i[0])\n",
    "    probs.append(i[1])"
   ]
  },
  {
   "cell_type": "code",
   "execution_count": 100,
   "id": "b32b48ef",
   "metadata": {},
   "outputs": [
    {
     "name": "stderr",
     "output_type": "stream",
     "text": [
      "C:\\Users\\18031\\AppData\\Local\\Temp/ipykernel_72564/3656957424.py:1: MatplotlibDeprecationWarning: Using a string of single character colors as a color sequence is deprecated since 3.2 and will be removed two minor releases later. Use an explicit list instead.\n",
      "  plt.barh(range(len(probs)), probs,tick_label=word,color='cmb')\n"
     ]
    },
    {
     "data": {
      "image/png": "[encoded data removed]",
      "text/plain": [
       "<Figure size 432x288 with 1 Axes>"
      ]
     },
     "metadata": {
      "needs_background": "light"
     },
     "output_type": "display_data"
    }
   ],
   "source": [
    "plt.barh(range(len(probs)), probs,tick_label=word,color='cmb')\n",
    "plt.show()"
   ]
  },
  {
   "cell_type": "code",
   "execution_count": 106,
   "id": "272388ed",
   "metadata": {},
   "outputs": [],
   "source": [
    "wiki_bigram,wiki_trigram = [],[]\n",
    "google_bigram,google_trigram = [],[]\n",
    "with open(\"Wordvec.txt\", \"r\") as f:  \n",
    "    data = f.readlines() \n",
    "    for i in data:\n",
    "        if \"WikiNews-vectors bigram score:\"in i:\n",
    "            num = float('0.'+ ''.join([x for x in i if x.isdigit()]))*10\n",
    "            wiki_bigram.append(num)\n",
    "            \n",
    "        if \"WikiNews-vectors trigram score:\"in i:\n",
    "            num = float('0.'+ ''.join([x for x in i if x.isdigit()]))*10\n",
    "            wiki_trigram.append(num)\n",
    "            \n",
    "        if \"GoogleNews-vectors bigram score:\"in i:\n",
    "            num = float('0.'+ ''.join([x for x in i if x.isdigit()]))*10\n",
    "            google_bigram.append(num)\n",
    "        \n",
    "        if \"GoogleNews-vectors trigram score:\"in i:\n",
    "            num = float('0.'+ ''.join([x for x in i if x.isdigit()]))*10\n",
    "            google_trigram.append(num)"
   ]
  },
  {
   "cell_type": "code",
   "execution_count": 108,
   "id": "d6b9cc98",
   "metadata": {},
   "outputs": [
    {
     "data": {
      "image/png": "[encoded data removed]",
      "text/plain": [
       "<Figure size 432x288 with 1 Axes>"
      ]
     },
     "metadata": {
      "needs_background": "light"
     },
     "output_type": "display_data"
    }
   ],
   "source": [
    "wiki = [sum(wiki_bigram)/5, sum(wiki_trigram)/5]\n",
    "google = [sum(google_bigram)/5, sum(google_trigram)/5]\n",
    "\n",
    "size = 2\n",
    "x = np.arange(size)\n",
    "a = wiki\n",
    "b = google\n",
    "c = np.random.random(size)\n",
    "labels = ['Wiki', 'Google']\n",
    " \n",
    "total_width, n = 0.9, 3\n",
    "width = total_width / n\n",
    "x = x - (total_width - width) / 2\n",
    " \n",
    "plt.bar(x, a,  width=width, tick_label=labels,label='bigram')\n",
    "plt.bar(x + width, b, width=width, label='trigram')\n",
    "plt.title('word2vec_score')\n",
    "plt.legend()\n",
    "plt.show()"
   ]
  },
  {
   "cell_type": "code",
   "execution_count": 109,
   "id": "a74056e7",
   "metadata": {},
   "outputs": [
    {
     "data": {
      "text/plain": [
       "[0.2273076923076923, 0.2328846153846154]"
      ]
     },
     "execution_count": 109,
     "metadata": {},
     "output_type": "execute_result"
    }
   ],
   "source": []
  },
  {
   "cell_type": "code",
   "execution_count": 110,
   "id": "7ea4da0f",
   "metadata": {},
   "outputs": [
    {
     "data": {
      "text/plain": [
       "[0.2303846153846154, 0.2325]"
      ]
     },
     "execution_count": 110,
     "metadata": {},
     "output_type": "execute_result"
    }
   ],
   "source": []
  },
  {
   "cell_type": "code",
   "execution_count": null,
   "id": "3cf28af0",
   "metadata": {},
   "outputs": [],
   "source": []
  },
  {
   "cell_type": "code",
   "execution_count": null,
   "id": "3ba50de4",
   "metadata": {},
   "outputs": [],
   "source": []
  },
  {
   "cell_type": "code",
   "execution_count": null,
   "id": "35b0bb14",
   "metadata": {},
   "outputs": [],
   "source": []
  }
 ],
 "metadata": {
  "kernelspec": {
   "display_name": "Python 3 (ipykernel)",
   "language": "python",
   "name": "python3"
  },
  "language_info": {
   "codemirror_mode": {
    "name": "ipython",
    "version": 3
   },
   "file_extension": ".py",
   "mimetype": "text/x-python",
   "name": "python",
   "nbconvert_exporter": "python",
   "pygments_lexer": "ipython3",
   "version": "3.9.7"
  }
 },
 "nbformat": 4,
 "nbformat_minor": 5
}
